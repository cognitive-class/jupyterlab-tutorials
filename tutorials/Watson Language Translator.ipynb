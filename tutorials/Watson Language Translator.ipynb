{
 "cells": [
  {
   "cell_type": "markdown",
   "metadata": {
    "slideshow": {
     "slide_type": "slide"
    }
   },
   "source": [
    "<div align=\"left\"><a href=\"https://cocl.us/watson_translator_cclabs\"><img src=\"https://upload.wikimedia.org/wikipedia/en/0/00/IBM_Watson_Logo_2017.png\" width=150></a></div>\n",
    "<h1> Watson Language Translator<h1>"
   ]
  },
  {
   "cell_type": "markdown",
   "metadata": {},
   "source": [
    "### About this notebook\n",
    "You will learn how to translate text into different languages in this exercise.   \n",
    "  \n",
    "**Estimated Time needed**: 10-15 min"
   ]
  },
  {
   "cell_type": "markdown",
   "metadata": {
    "slideshow": {
     "slide_type": "slide"
    }
   },
   "source": [
    "## 3 steps:\n",
    "1. Initiate the Watson translator service\n",
    "2. Write some text\n",
    "3. Translate the text"
   ]
  },
  {
   "cell_type": "markdown",
   "metadata": {
    "slideshow": {
     "slide_type": "subslide"
    }
   },
   "source": [
    "### Step 1 of 3: Initiate the translator service using Python"
   ]
  },
  {
   "cell_type": "markdown",
   "metadata": {},
   "source": [
    "Press Shift+Enter to execute these cells."
   ]
  },
  {
   "cell_type": "markdown",
   "metadata": {},
   "source": [
    "First, install the current IBM Watson SDK packages for Python."
   ]
  },
  {
   "cell_type": "code",
   "execution_count": null,
   "metadata": {
    "slideshow": {
     "slide_type": "fragment"
    }
   },
   "outputs": [],
   "source": [
    "!pip install ibm_cloud_sdk_core \n",
    "!pip install ibm-watson"
   ]
  },
  {
   "cell_type": "code",
   "execution_count": null,
   "metadata": {
    "slideshow": {
     "slide_type": "fragment"
    }
   },
   "outputs": [],
   "source": [
    "from ibm_watson import LanguageTranslatorV3"
   ]
  },
  {
   "cell_type": "markdown",
   "metadata": {},
   "source": [
    "Replace `apikey12345` below with your API key ([click here to create an API key for this service on IBM Cloud](https://cocl.us/watson_translator_cclabs))"
   ]
  },
  {
   "cell_type": "code",
   "execution_count": null,
   "metadata": {
    "slideshow": {
     "slide_type": "fragment"
    }
   },
   "outputs": [],
   "source": [
    "from ibm_cloud_sdk_core.authenticators import IAMAuthenticator\n",
    "\n",
    "authenticator = IAMAuthenticator('apikey12345')\n",
    "\n",
    "language_translator = LanguageTranslatorV3(\n",
    "    version='2018-05-01'\n",
    "    authenticator=authenticator\n",
    ")\n",
    "\n",
    "language_translator.set_service_url('https://gateway.watsonplatform.net/language-translator/api')"
   ]
  },
  {
   "cell_type": "markdown",
   "metadata": {
    "slideshow": {
     "slide_type": "subslide"
    }
   },
   "source": [
    "### Step 2 of 3: Write some text to translate"
   ]
  },
  {
   "cell_type": "code",
   "execution_count": null,
   "metadata": {
    "slideshow": {
     "slide_type": "fragment"
    }
   },
   "outputs": [],
   "source": [
    "text_to_translate = \"Who is excellent at table tennis?\""
   ]
  },
  {
   "cell_type": "markdown",
   "metadata": {
    "slideshow": {
     "slide_type": "fragment"
    }
   },
   "source": [
    "### Step 3 of 3: Translate!"
   ]
  },
  {
   "cell_type": "code",
   "execution_count": null,
   "metadata": {
    "slideshow": {
     "slide_type": "fragment"
    }
   },
   "outputs": [],
   "source": [
    "import json\n",
    "\n",
    "translation = language_translator.translate(\n",
    "    text = text_to_translate,\n",
    "    model_id = 'en-fr').get_result()\n",
    "\n",
    "print(json.dumps(translation, indent=2, ensure_ascii=False))"
   ]
  },
  {
   "cell_type": "markdown",
   "metadata": {
    "slideshow": {
     "slide_type": "slide"
    }
   },
   "source": [
    "## Customizing the translation"
   ]
  },
  {
   "cell_type": "markdown",
   "metadata": {
    "slideshow": {
     "slide_type": "subslide"
    }
   },
   "source": [
    "#### How do you translate from English to other languages?"
   ]
  },
  {
   "cell_type": "code",
   "execution_count": null,
   "metadata": {
    "slideshow": {
     "slide_type": "fragment"
    }
   },
   "outputs": [],
   "source": [
    "print(text_to_translate)\n",
    "\n",
    "translation = language_translator.translate(\n",
    "    text = text_to_translate,\n",
    "    model_id = 'en-ja' #English to Japanese\n",
    ").get_result()\n",
    "\n",
    "print(json.dumps(translation, indent=2, ensure_ascii=False))\n"
   ]
  },
  {
   "cell_type": "markdown",
   "metadata": {
    "slideshow": {
     "slide_type": "subslide"
    }
   },
   "source": [
    "#### Lots of languages to choose from"
   ]
  },
  {
   "cell_type": "code",
   "execution_count": null,
   "metadata": {
    "scrolled": true,
    "slideshow": {
     "slide_type": "fragment"
    }
   },
   "outputs": [],
   "source": [
    "import pandas as pd\n",
    "from pandas.io.json import json_normalize\n",
    "\n",
    "models = language_translator.list_models().get_result()\n",
    "\n",
    "model_df = pd.io.json.json_normalize(models[\"models\"])[[\"model_id\", \"source\", \"target\"]]\n",
    "\n",
    "model_df.sort_values(\"source\").reset_index(drop=True)"
   ]
  },
  {
   "cell_type": "markdown",
   "metadata": {},
   "source": [
    "### Practice: \n",
    "#### Try it yourself:"
   ]
  },
  {
   "cell_type": "code",
   "execution_count": null,
   "metadata": {},
   "outputs": [],
   "source": [
    "text_to_translate = \"Who is excellent at table tennis?\"\n",
    "\n",
    "chosen_model_id = 'en-es'\n",
    "\n",
    "translation = language_translator.translate(\n",
    "    text = text_to_translate,\n",
    "    model_id = chosen_model_id).get_result()\n",
    "\n",
    "print(json.dumps(translation, indent=2, ensure_ascii=False))"
   ]
  },
  {
   "cell_type": "markdown",
   "metadata": {
    "slideshow": {
     "slide_type": "subslide"
    }
   },
   "source": [
    "## What if I don't know what language the input text is in?"
   ]
  },
  {
   "cell_type": "code",
   "execution_count": null,
   "metadata": {
    "slideshow": {
     "slide_type": "fragment"
    }
   },
   "outputs": [],
   "source": [
    "text_to_identify = \"私は、世界一の卓球選手です。\""
   ]
  },
  {
   "cell_type": "code",
   "execution_count": null,
   "metadata": {
    "cell_style": "split",
    "slideshow": {
     "slide_type": "fragment"
    }
   },
   "outputs": [],
   "source": [
    "identification = language_translator.identify(\n",
    "    text = text_to_identify).get_result()\n",
    "\n",
    "print(json.dumps(identification, indent=2, \n",
    "                 ensure_ascii=False))\n"
   ]
  },
  {
   "cell_type": "code",
   "execution_count": null,
   "metadata": {
    "cell_style": "split",
    "scrolled": true,
    "slideshow": {
     "slide_type": "fragment"
    }
   },
   "outputs": [],
   "source": [
    "result_lang = pd.io.json.json_normalize(identification[\"languages\"])\n",
    "result_lang = result_lang.sort_values(\"confidence\", ascending=False).reset_index(drop=True)\n",
    "result_lang.head(10)"
   ]
  },
  {
   "cell_type": "markdown",
   "metadata": {
    "slideshow": {
     "slide_type": "subslide"
    }
   },
   "source": [
    "#### Translate from identified language to English"
   ]
  },
  {
   "cell_type": "code",
   "execution_count": null,
   "metadata": {
    "slideshow": {
     "slide_type": "fragment"
    }
   },
   "outputs": [],
   "source": [
    "print(text_to_identify) #私は、世界一の卓球選手です。\n",
    "print(result_lang.language[0]) #ja\n",
    "\n",
    "translation = language_translator.translate(\n",
    "    text = text_to_identify,\n",
    "    model_id = result_lang.language[0]+\"-en\" \n",
    ").get_result()\n",
    "\n",
    "print(json.dumps(translation, indent=2, ensure_ascii=False))\n"
   ]
  },
  {
   "cell_type": "markdown",
   "metadata": {},
   "source": [
    "### Practice: \n",
    "#### Try it yourself:\n",
    "\n",
    "Try to identify the language and then translate the following text to English:\n",
    "> Vous avez appris à traduire des textes dan différentes langues."
   ]
  },
  {
   "cell_type": "code",
   "execution_count": null,
   "metadata": {},
   "outputs": [],
   "source": [
    "#### Write your code below\n",
    "\n",
    "\n",
    "\n"
   ]
  },
  {
   "cell_type": "markdown",
   "metadata": {},
   "source": [
    "#### Full API Documentation:\n",
    "\n",
    "- [Getting Started Tutorial for Watson Translator Service](https://console.bluemix.net/docs/services/language-translator/getting-started.html#gettingstarted?cm_mmc=Email_External-_-Developer_Community-_-WW_WW-_-CognitiveClass-cclabs-jupyterlab-watsontranslator-tutorial-WA0201&cm_mmca1=000026UJ&cm_mmca2=10006555&cm_mmca3=M12345678&cvosrc=email.External.M12345678&cvo_campaign=000026UJ)\n",
    "- [API Documentation](https://www.ibm.com/watson/developercloud/language-translator/api/v3/python.html?cm_mmc=Email_External-_-Developer_Community-_-WW_WW-_-CognitiveClass-cclabs-jupyterlab-watsontranslator-tutorial-WA0201&cm_mmca1=000026UJ&cm_mmca2=10006555&cm_mmca3=M12345678&cvosrc=email.External.M12345678&cvo_campaign=000026UJ)"
   ]
  },

  {
   "cell_type": "markdown",
   "metadata": {},
   "source": [
    "<hr>\n",
    "Copyright &copy; <a href=\"https://cognitiveclass.ai\">IBM Cognitive Class</a>. This notebook and its source code are released under the terms of the <a href=\"https://cognitiveclass.ai/mit-license/\">MIT License</a>."
   ]
  }
 ],
 "metadata": {
  "celltoolbar": "Slideshow",
  "gist_info": {
   "gist_id": null,
   "gist_url": null
  },
  "kernelspec": {
   "display_name": "Python 3",
   "language": "python",
   "name": "python3"
  },
  "language_info": {
   "codemirror_mode": {
    "name": "ipython",
    "version": 3
   },
   "file_extension": ".py",
   "mimetype": "text/x-python",
   "name": "python",
   "nbconvert_exporter": "python",
   "pygments_lexer": "ipython3",
   "version": "3.6.5"
  },
  "widgets": {
   "state": {},
   "version": "1.1.2"
  }
 },
 "nbformat": 4,
 "nbformat_minor": 2
}
